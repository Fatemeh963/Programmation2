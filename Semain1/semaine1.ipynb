{
 "cells": [
  {
   "cell_type": "code",
   "execution_count": 2,
   "id": "9b19bc21",
   "metadata": {},
   "outputs": [
    {
     "data": {
      "text/plain": [
       "0    10\n",
       "1    20\n",
       "2    30\n",
       "dtype: int64"
      ]
     },
     "execution_count": 2,
     "metadata": {},
     "output_type": "execute_result"
    }
   ],
   "source": [
    "import pandas as pd\n",
    "import numpy as np\n",
    "s=pd.Series([10,20,30])\n",
    "s"
   ]
  },
  {
   "cell_type": "code",
   "execution_count": 3,
   "id": "6915b8d2",
   "metadata": {},
   "outputs": [
    {
     "data": {
      "text/plain": [
       "0    20\n",
       "1    30\n",
       "2    40\n",
       "dtype: int64"
      ]
     },
     "execution_count": 3,
     "metadata": {},
     "output_type": "execute_result"
    }
   ],
   "source": [
    "from pandas import Series\n",
    "s=Series([20,30,40])\n",
    "s\n"
   ]
  },
  {
   "cell_type": "code",
   "execution_count": 6,
   "id": "d1532a1e",
   "metadata": {},
   "outputs": [
    {
     "name": "stdout",
     "output_type": "stream",
     "text": [
      "Le moyen est: 30.0\n"
     ]
    }
   ],
   "source": [
    "from pandas import Series\n",
    "import numpy\n",
    "s=pd.Series([20,30,40])\n",
    "print(\"Le moyen est:\",s.mean())"
   ]
  },
  {
   "cell_type": "code",
   "execution_count": 8,
   "id": "30a1ddb2",
   "metadata": {},
   "outputs": [
    {
     "name": "stdout",
     "output_type": "stream",
     "text": [
      "[82 60 48 21 35 69 87 34  5  1]\n",
      "<class 'numpy.ndarray'>\n"
     ]
    }
   ],
   "source": [
    "import numpy as np\n",
    "arr=np.random.randint(0,100,10)\n",
    "print(arr)\n",
    "print(type(arr))"
   ]
  },
  {
   "cell_type": "code",
   "execution_count": 9,
   "id": "50c10bbd",
   "metadata": {},
   "outputs": [
    {
     "name": "stdout",
     "output_type": "stream",
     "text": [
      "[32 36 78 14 42 22 19 83 26 15]\n"
     ]
    }
   ],
   "source": [
    "import numpy as np\n",
    "arr=np.random.randint(0,101,10)\n",
    "print(arr)"
   ]
  },
  {
   "cell_type": "code",
   "execution_count": 3,
   "id": "e89c673e",
   "metadata": {},
   "outputs": [
    {
     "name": "stdout",
     "output_type": "stream",
     "text": [
      "0    82\n",
      "1    85\n",
      "2    91\n",
      "3    70\n",
      "4    73\n",
      "5    97\n",
      "6    73\n",
      "7    77\n",
      "8    79\n",
      "9    89\n",
      "dtype: int32\n"
     ]
    }
   ],
   "source": [
    "import numpy as np\n",
    "import pandas as pd\n",
    "np.random.seed(0)\n",
    "arr= np.random.randint(70,101,10)\n",
    "s= pd.Series(arr)\n",
    "print (s)"
   ]
  },
  {
   "cell_type": "code",
   "execution_count": 5,
   "id": "e3724954",
   "metadata": {},
   "outputs": [
    {
     "name": "stdout",
     "output_type": "stream",
     "text": [
      "Sep    82\n",
      "oct    85\n",
      "Nov    91\n",
      "Dec    70\n",
      "Jav    73\n",
      "Fev    97\n",
      "Mar    73\n",
      "Avr    77\n",
      "may    79\n",
      "Jun    89\n",
      "dtype: int32\n"
     ]
    }
   ],
   "source": [
    "import pandas as pd\n",
    "import numpy as np\n",
    "np.random.seed(0)\n",
    "arr=np.random.randint(70,101,10)\n",
    "s=pd.Series(arr)\n",
    "s.index='Sep oct Nov Dec Jav Fev Mar Avr may Jun'.split()\n",
    "print(s)"
   ]
  },
  {
   "cell_type": "code",
   "execution_count": 32,
   "id": "6ce42cca",
   "metadata": {},
   "outputs": [
    {
     "name": "stdout",
     "output_type": "stream",
     "text": [
      "Sep    82\n",
      "oct    85\n",
      "Nov    91\n",
      "Dec    70\n",
      "Jav    73\n",
      "Feb    97\n",
      "Mar    73\n",
      "Apr    77\n",
      "May    79\n",
      "jun    89\n",
      "dtype: int32\n",
      "la somme annuelle est:816\n",
      "la taille est:(10,)\n",
      "la taille 2 est:10\n",
      "count est:10\n",
      "Le moyen est:81.6\n",
      "Lemoyen avec mean est:81.6\n",
      "le moyen de la premier semestre est:80.2\n",
      "le moyen de la deuxieme semestre est:83.0\n",
      "first semestre :80.2\n",
      "second semestre:83.0\n",
      "82.0\n",
      "79.8\n",
      "l'amélioration est: 2.200000000000003\n"
     ]
    }
   ],
   "source": [
    "np.random.seed(0)\n",
    "month='Sep oct Nov Dec Jav Feb Mar Apr May jun '.split()\n",
    "arr= np.random.randint(70,101,10)\n",
    "s=pd.Series(arr,index=month)\n",
    "print(s)\n",
    "print(f'la somme annuelle est:{s.sum()}')\n",
    "print(f'la taille est:{s.shape}')\n",
    "print(f'la taille 2 est:{s.shape[0]}')\n",
    "print(f'count est:{s.count()}')\n",
    "print(f'Le moyen est:{s.sum()/s.count()}')\n",
    "print(f'Lemoyen avec mean est:{s.mean()}')\n",
    "print(f'le moyen de la premier semestre est:{s[:5].mean()}')\n",
    "print(f'le moyen de la deuxieme semestre est:{s[5:].mean()}')\n",
    "print(f'first semestre :{s.iloc[:5].mean()}')\n",
    "print(f'second semestre:{s.iloc[5:].mean()}')\n",
    "first_half_avreage=s.loc['Sep':'Dec'].mean()\n",
    "print(first_half_avreage)\n",
    "second_half_avrage=s.loc['Jav':'May'].mean()\n",
    "print( second_half_avrage)\n",
    "print(\"l'amélioration est:\",first_half_avreage-second_half_avrage)"
   ]
  },
  {
   "cell_type": "code",
   "execution_count": null,
   "id": "1dea2bff",
   "metadata": {},
   "outputs": [],
   "source": []
  }
 ],
 "metadata": {
  "kernelspec": {
   "display_name": "Python 3 (ipykernel)",
   "language": "python",
   "name": "python3"
  },
  "language_info": {
   "codemirror_mode": {
    "name": "ipython",
    "version": 3
   },
   "file_extension": ".py",
   "mimetype": "text/x-python",
   "name": "python",
   "nbconvert_exporter": "python",
   "pygments_lexer": "ipython3",
   "version": "3.10.9"
  }
 },
 "nbformat": 4,
 "nbformat_minor": 5
}
