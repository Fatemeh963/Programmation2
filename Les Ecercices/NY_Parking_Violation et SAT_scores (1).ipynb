{
 "cells": [
  {
   "cell_type": "code",
   "execution_count": 33,
   "id": "ff33b7a2",
   "metadata": {},
   "outputs": [
    {
     "data": {
      "text/plain": [
       "Index(['Plate ID', 'Registration State', 'Issue Date', 'Vehicle Make',\n",
       "       'Street Name', 'Date First Observed', 'Vehicle Color'],\n",
       "      dtype='object')"
      ]
     },
     "execution_count": 33,
     "metadata": {},
     "output_type": "execute_result"
    }
   ],
   "source": [
    "#Exercice 1\n",
    "# Question 1, Creation du DataFrame\n",
    "import pandas as pd\n",
    "from pandas import Series, DataFrame\n",
    "filename = './data_1/nyc-parking-violations-2020.csv'\n",
    "df = pd.read_csv(filename, usecols = ['Date First Observed', 'Plate ID', 'Registration State', 'Issue Date', \\\n",
    "                                      'Vehicle Make', 'Street Name', 'Vehicle Color'])\n",
    "df.columns"
   ]
  },
  {
   "cell_type": "code",
   "execution_count": 34,
   "id": "a194964c",
   "metadata": {},
   "outputs": [
    {
     "data": {
      "text/plain": [
       "Plate ID               object\n",
       "Registration State     object\n",
       "Issue Date             object\n",
       "Vehicle Make           object\n",
       "Street Name            object\n",
       "Date First Observed     int64\n",
       "Vehicle Color          object\n",
       "dtype: object"
      ]
     },
     "execution_count": 34,
     "metadata": {},
     "output_type": "execute_result"
    }
   ],
   "source": [
    "# Pour chercher le type\n",
    "df.dtypes"
   ]
  },
  {
   "cell_type": "code",
   "execution_count": 35,
   "id": "a139efe4",
   "metadata": {},
   "outputs": [
    {
     "data": {
      "text/plain": [
       "Plate ID                       object\n",
       "Registration State             object\n",
       "Issue Date             datetime64[ns]\n",
       "Vehicle Make                   object\n",
       "Street Name                    object\n",
       "Date First Observed             int64\n",
       "Vehicle Color                  object\n",
       "dtype: object"
      ]
     },
     "execution_count": 35,
     "metadata": {},
     "output_type": "execute_result"
    }
   ],
   "source": [
    "# Changer Issue Date en date\n",
    "df['Issue Date'] = pd.to_datetime(df['Issue Date'])\n",
    "df.dtypes"
   ]
  },
  {
   "cell_type": "code",
   "execution_count": 36,
   "id": "56bf031a",
   "metadata": {},
   "outputs": [
    {
     "data": {
      "text/html": [
       "<div>\n",
       "<style scoped>\n",
       "    .dataframe tbody tr th:only-of-type {\n",
       "        vertical-align: middle;\n",
       "    }\n",
       "\n",
       "    .dataframe tbody tr th {\n",
       "        vertical-align: top;\n",
       "    }\n",
       "\n",
       "    .dataframe thead th {\n",
       "        text-align: right;\n",
       "    }\n",
       "</style>\n",
       "<table border=\"1\" class=\"dataframe\">\n",
       "  <thead>\n",
       "    <tr style=\"text-align: right;\">\n",
       "      <th></th>\n",
       "      <th>Plate ID</th>\n",
       "      <th>Registration State</th>\n",
       "      <th>Vehicle Make</th>\n",
       "      <th>Street Name</th>\n",
       "      <th>Date First Observed</th>\n",
       "      <th>Vehicle Color</th>\n",
       "    </tr>\n",
       "    <tr>\n",
       "      <th>Issue Date</th>\n",
       "      <th></th>\n",
       "      <th></th>\n",
       "      <th></th>\n",
       "      <th></th>\n",
       "      <th></th>\n",
       "      <th></th>\n",
       "    </tr>\n",
       "  </thead>\n",
       "  <tbody>\n",
       "    <tr>\n",
       "      <th>1972-05-08</th>\n",
       "      <td>J58JKX</td>\n",
       "      <td>NJ</td>\n",
       "      <td>HONDA</td>\n",
       "      <td>43 ST</td>\n",
       "      <td>0</td>\n",
       "      <td>BK</td>\n",
       "    </tr>\n",
       "    <tr>\n",
       "      <th>1977-08-29</th>\n",
       "      <td>KRE6058</td>\n",
       "      <td>PA</td>\n",
       "      <td>ME/BE</td>\n",
       "      <td>UNION ST</td>\n",
       "      <td>0</td>\n",
       "      <td>BLK</td>\n",
       "    </tr>\n",
       "    <tr>\n",
       "      <th>1988-10-03</th>\n",
       "      <td>444326R</td>\n",
       "      <td>NJ</td>\n",
       "      <td>LEXUS</td>\n",
       "      <td>CLERMONT AVENUE</td>\n",
       "      <td>0</td>\n",
       "      <td>BLACK</td>\n",
       "    </tr>\n",
       "    <tr>\n",
       "      <th>1990-01-03</th>\n",
       "      <td>F728330</td>\n",
       "      <td>OH</td>\n",
       "      <td>CHEVR</td>\n",
       "      <td>DIVISION AVE</td>\n",
       "      <td>0</td>\n",
       "      <td>NaN</td>\n",
       "    </tr>\n",
       "    <tr>\n",
       "      <th>1990-02-14</th>\n",
       "      <td>FMY9090</td>\n",
       "      <td>NY</td>\n",
       "      <td>JEEP</td>\n",
       "      <td>GRAND ST</td>\n",
       "      <td>0</td>\n",
       "      <td>GREY</td>\n",
       "    </tr>\n",
       "  </tbody>\n",
       "</table>\n",
       "</div>"
      ],
      "text/plain": [
       "           Plate ID Registration State Vehicle Make      Street Name  \\\n",
       "Issue Date                                                             \n",
       "1972-05-08   J58JKX                 NJ        HONDA            43 ST   \n",
       "1977-08-29  KRE6058                 PA        ME/BE         UNION ST   \n",
       "1988-10-03  444326R                 NJ        LEXUS  CLERMONT AVENUE   \n",
       "1990-01-03  F728330                 OH        CHEVR     DIVISION AVE   \n",
       "1990-02-14  FMY9090                 NY         JEEP         GRAND ST   \n",
       "\n",
       "            Date First Observed Vehicle Color  \n",
       "Issue Date                                     \n",
       "1972-05-08                    0            BK  \n",
       "1977-08-29                    0           BLK  \n",
       "1988-10-03                    0         BLACK  \n",
       "1990-01-03                    0           NaN  \n",
       "1990-02-14                    0          GREY  "
      ]
     },
     "execution_count": 36,
     "metadata": {},
     "output_type": "execute_result"
    }
   ],
   "source": [
    "# Question 2, Definition de l'index Issue Date\n",
    "df.set_index('Issue Date',inplace = True)\n",
    "df.head()"
   ]
  },
  {
   "cell_type": "code",
   "execution_count": 37,
   "id": "3d86f6b5",
   "metadata": {},
   "outputs": [
    {
     "data": {
      "text/plain": [
       "TOYOT    3833\n",
       "HONDA    3607\n",
       "FORD     3173\n",
       "Name: Vehicle Make, dtype: int64"
      ]
     },
     "execution_count": 37,
     "metadata": {},
     "output_type": "execute_result"
    }
   ],
   "source": [
    "# Question 3, Les Marques de voiture plus susceptibles\n",
    "df.loc[((df.index.month == 1) & (df.index.day == 2)),:]['Vehicle Make'].value_counts().head(3)"
   ]
  },
  {
   "cell_type": "code",
   "execution_count": 38,
   "id": "785f8a7d",
   "metadata": {},
   "outputs": [
    {
     "data": {
      "text/plain": [
       "Broadway    726\n",
       "3rd Ave     586\n",
       "2nd Ave     410\n",
       "5th Ave     328\n",
       "1st Ave     317\n",
       "Name: Street Name, dtype: int64"
      ]
     },
     "execution_count": 38,
     "metadata": {},
     "output_type": "execute_result"
    }
   ],
   "source": [
    "#Question 4, Les cinq rues dont les voitures ont reccu plus de contraventions\n",
    "df.loc['2019-10-03',:]['Street Name'].value_counts().head()"
   ]
  },
  {
   "cell_type": "code",
   "execution_count": 39,
   "id": "ab6317d6",
   "metadata": {},
   "outputs": [
    {
     "data": {
      "text/html": [
       "<div>\n",
       "<style scoped>\n",
       "    .dataframe tbody tr th:only-of-type {\n",
       "        vertical-align: middle;\n",
       "    }\n",
       "\n",
       "    .dataframe tbody tr th {\n",
       "        vertical-align: top;\n",
       "    }\n",
       "\n",
       "    .dataframe thead th {\n",
       "        text-align: right;\n",
       "    }\n",
       "</style>\n",
       "<table border=\"1\" class=\"dataframe\">\n",
       "  <thead>\n",
       "    <tr style=\"text-align: right;\">\n",
       "      <th></th>\n",
       "      <th>Plate ID</th>\n",
       "      <th>Registration State</th>\n",
       "      <th>Vehicle Make</th>\n",
       "      <th>Street Name</th>\n",
       "      <th>Date First Observed</th>\n",
       "    </tr>\n",
       "    <tr>\n",
       "      <th>Vehicle Color</th>\n",
       "      <th></th>\n",
       "      <th></th>\n",
       "      <th></th>\n",
       "      <th></th>\n",
       "      <th></th>\n",
       "    </tr>\n",
       "  </thead>\n",
       "  <tbody>\n",
       "    <tr>\n",
       "      <th>BK</th>\n",
       "      <td>J58JKX</td>\n",
       "      <td>NJ</td>\n",
       "      <td>HONDA</td>\n",
       "      <td>43 ST</td>\n",
       "      <td>0</td>\n",
       "    </tr>\n",
       "    <tr>\n",
       "      <th>BLK</th>\n",
       "      <td>KRE6058</td>\n",
       "      <td>PA</td>\n",
       "      <td>ME/BE</td>\n",
       "      <td>UNION ST</td>\n",
       "      <td>0</td>\n",
       "    </tr>\n",
       "    <tr>\n",
       "      <th>BLACK</th>\n",
       "      <td>444326R</td>\n",
       "      <td>NJ</td>\n",
       "      <td>LEXUS</td>\n",
       "      <td>CLERMONT AVENUE</td>\n",
       "      <td>0</td>\n",
       "    </tr>\n",
       "    <tr>\n",
       "      <th>NaN</th>\n",
       "      <td>F728330</td>\n",
       "      <td>OH</td>\n",
       "      <td>CHEVR</td>\n",
       "      <td>DIVISION AVE</td>\n",
       "      <td>0</td>\n",
       "    </tr>\n",
       "    <tr>\n",
       "      <th>GREY</th>\n",
       "      <td>FMY9090</td>\n",
       "      <td>NY</td>\n",
       "      <td>JEEP</td>\n",
       "      <td>GRAND ST</td>\n",
       "      <td>0</td>\n",
       "    </tr>\n",
       "  </tbody>\n",
       "</table>\n",
       "</div>"
      ],
      "text/plain": [
       "              Plate ID Registration State Vehicle Make      Street Name  \\\n",
       "Vehicle Color                                                             \n",
       "BK              J58JKX                 NJ        HONDA            43 ST   \n",
       "BLK            KRE6058                 PA        ME/BE         UNION ST   \n",
       "BLACK          444326R                 NJ        LEXUS  CLERMONT AVENUE   \n",
       "NaN            F728330                 OH        CHEVR     DIVISION AVE   \n",
       "GREY           FMY9090                 NY         JEEP         GRAND ST   \n",
       "\n",
       "               Date First Observed  \n",
       "Vehicle Color                       \n",
       "BK                               0  \n",
       "BLK                              0  \n",
       "BLACK                            0  \n",
       "NaN                              0  \n",
       "GREY                             0  "
      ]
     },
     "execution_count": 39,
     "metadata": {},
     "output_type": "execute_result"
    }
   ],
   "source": [
    "# Question 5, Definition de l'index colunne Vehicle Color\n",
    "df.set_index('Vehicle Color',inplace = True)\n",
    "df.head()\n"
   ]
  },
  {
   "cell_type": "code",
   "execution_count": 40,
   "id": "33db5269",
   "metadata": {},
   "outputs": [
    {
     "data": {
      "text/plain": [
       "HONDA    39353\n",
       "Name: Vehicle Make, dtype: int64"
      ]
     },
     "execution_count": 40,
     "metadata": {},
     "output_type": "execute_result"
    }
   ],
   "source": [
    "# Question 6, La marque de voiture courante la plus santionees\n",
    "df.loc[['RED','BLUE'],:]['Vehicle Make'].value_counts().head(1)"
   ]
  },
  {
   "cell_type": "code",
   "execution_count": 41,
   "id": "4bf85711",
   "metadata": {
    "scrolled": true
   },
   "outputs": [
    {
     "data": {
      "text/plain": [
       "<bound method NDFrame.head of      Year State.Code  Total.Math  Total.Test-takers  Total.Verbal\n",
       "0    2005         AL         559               3985           567\n",
       "1    2005         AK         519               3996           523\n",
       "2    2005         AZ         530              18184           526\n",
       "3    2005         AR         552               1600           563\n",
       "4    2005         CA         522             186552           504\n",
       "..    ...        ...         ...                ...           ...\n",
       "572  2015         VA         517              59621           518\n",
       "573  2015         WA         511              44423           502\n",
       "574  2015         WV         500               2501           509\n",
       "575  2015         WI         606               2277           591\n",
       "576  2015         WY         587                181           588\n",
       "\n",
       "[577 rows x 5 columns]>"
      ]
     },
     "execution_count": 41,
     "metadata": {},
     "output_type": "execute_result"
    }
   ],
   "source": [
    "#Exercice 2\n",
    "\n",
    "#Question 1, Creation du DataFrame\n",
    "df = pd.read_csv('./data_1/sat-scores.csv' , usecols=['Year','State.Code','Total.Math','Total.Test-takers','Total.Verbal'] , header=0 )\n",
    "df.head"
   ]
  },
  {
   "cell_type": "code",
   "execution_count": 43,
   "id": "7e8052fd",
   "metadata": {},
   "outputs": [
    {
     "data": {
      "text/html": [
       "<div>\n",
       "<style scoped>\n",
       "    .dataframe tbody tr th:only-of-type {\n",
       "        vertical-align: middle;\n",
       "    }\n",
       "\n",
       "    .dataframe tbody tr th {\n",
       "        vertical-align: top;\n",
       "    }\n",
       "\n",
       "    .dataframe thead th {\n",
       "        text-align: right;\n",
       "    }\n",
       "</style>\n",
       "<table border=\"1\" class=\"dataframe\">\n",
       "  <thead>\n",
       "    <tr style=\"text-align: right;\">\n",
       "      <th></th>\n",
       "      <th></th>\n",
       "      <th>Total.Math</th>\n",
       "      <th>Total.Test-takers</th>\n",
       "      <th>Total.Verbal</th>\n",
       "    </tr>\n",
       "    <tr>\n",
       "      <th>Year</th>\n",
       "      <th>State.Code</th>\n",
       "      <th></th>\n",
       "      <th></th>\n",
       "      <th></th>\n",
       "    </tr>\n",
       "  </thead>\n",
       "  <tbody>\n",
       "    <tr>\n",
       "      <th rowspan=\"5\" valign=\"top\">2005</th>\n",
       "      <th>AL</th>\n",
       "      <td>559</td>\n",
       "      <td>3985</td>\n",
       "      <td>567</td>\n",
       "    </tr>\n",
       "    <tr>\n",
       "      <th>AK</th>\n",
       "      <td>519</td>\n",
       "      <td>3996</td>\n",
       "      <td>523</td>\n",
       "    </tr>\n",
       "    <tr>\n",
       "      <th>AZ</th>\n",
       "      <td>530</td>\n",
       "      <td>18184</td>\n",
       "      <td>526</td>\n",
       "    </tr>\n",
       "    <tr>\n",
       "      <th>AR</th>\n",
       "      <td>552</td>\n",
       "      <td>1600</td>\n",
       "      <td>563</td>\n",
       "    </tr>\n",
       "    <tr>\n",
       "      <th>CA</th>\n",
       "      <td>522</td>\n",
       "      <td>186552</td>\n",
       "      <td>504</td>\n",
       "    </tr>\n",
       "  </tbody>\n",
       "</table>\n",
       "</div>"
      ],
      "text/plain": [
       "                 Total.Math  Total.Test-takers  Total.Verbal\n",
       "Year State.Code                                             \n",
       "2005 AL                 559               3985           567\n",
       "     AK                 519               3996           523\n",
       "     AZ                 530              18184           526\n",
       "     AR                 552               1600           563\n",
       "     CA                 522             186552           504"
      ]
     },
     "execution_count": 43,
     "metadata": {},
     "output_type": "execute_result"
    }
   ],
   "source": [
    "#Question 2, Creation d'un multi-index basse sur l'annee et le code d'Etat\n",
    "df.set_index(['Year','State.Code'],inplace = True)\n",
    "df.head()"
   ]
  },
  {
   "cell_type": "code",
   "execution_count": 44,
   "id": "6f942fcb",
   "metadata": {},
   "outputs": [
    {
     "data": {
      "text/plain": [
       "1344824"
      ]
     },
     "execution_count": 44,
     "metadata": {},
     "output_type": "execute_result"
    }
   ],
   "source": [
    "#Question 3, La quantite de personne qui ont passee le SAT en 2005\n",
    "df.loc[2005,'Total.Test-takers'].sum()"
   ]
  },
  {
   "cell_type": "code",
   "execution_count": 45,
   "id": "02bad8da",
   "metadata": {},
   "outputs": [
    {
     "data": {
      "text/plain": [
       "535.25"
      ]
     },
     "execution_count": 45,
     "metadata": {},
     "output_type": "execute_result"
    }
   ],
   "source": [
    "#Question 4, Le score moyenne en mathematiques au SAT 2010\n",
    "df.loc[(2010,['NY','NJ','MA','IL']),'Total.Math'].mean()"
   ]
  },
  {
   "cell_type": "code",
   "execution_count": 46,
   "id": "a0affb68",
   "metadata": {},
   "outputs": [
    {
     "data": {
      "text/plain": [
       "497.3333333333333"
      ]
     },
     "execution_count": 46,
     "metadata": {},
     "output_type": "execute_result"
    }
   ],
   "source": [
    "#Question 5, Le score moyenne au SAT  oral en 2012 et 2015\n",
    "df.loc[([2012 , 2013, 2014, 2015],['AZ','CA','TX']),'Total.Verbal'].mean()"
   ]
  }
 ],
 "metadata": {
  "kernelspec": {
   "display_name": "Python 3 (ipykernel)",
   "language": "python",
   "name": "python3"
  },
  "language_info": {
   "codemirror_mode": {
    "name": "ipython",
    "version": 3
   },
   "file_extension": ".py",
   "mimetype": "text/x-python",
   "name": "python",
   "nbconvert_exporter": "python",
   "pygments_lexer": "ipython3",
   "version": "3.11.3"
  }
 },
 "nbformat": 4,
 "nbformat_minor": 5
}
