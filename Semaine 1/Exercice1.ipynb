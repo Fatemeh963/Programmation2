{
 "cells": [
  {
   "cell_type": "code",
   "execution_count": 1,
   "id": "7fcb9f59",
   "metadata": {},
   "outputs": [
    {
     "data": {
      "text/plain": [
       "0    10\n",
       "1    20\n",
       "2    30\n",
       "3    40\n",
       "4    50\n",
       "dtype: int64"
      ]
     },
     "execution_count": 1,
     "metadata": {},
     "output_type": "execute_result"
    }
   ],
   "source": [
    "# Definir une serie, \n",
    "# 1er methode\n",
    "import pandas as pd\n",
    "s= pd.Series([10, 20, 30, 40, 50])\n",
    "s"
   ]
  },
  {
   "cell_type": "code",
   "execution_count": 3,
   "id": "38eebc66",
   "metadata": {},
   "outputs": [
    {
     "data": {
      "text/plain": [
       "0    10\n",
       "1    20\n",
       "2    30\n",
       "3    40\n",
       "4    50\n",
       "dtype: int64"
      ]
     },
     "execution_count": 3,
     "metadata": {},
     "output_type": "execute_result"
    }
   ],
   "source": [
    "# 2eme methode\n",
    "from pandas import Series\n",
    "s= Series([10, 20, 30, 40, 50])\n",
    "s"
   ]
  },
  {
   "cell_type": "code",
   "execution_count": 5,
   "id": "f1b47ed1",
   "metadata": {},
   "outputs": [
    {
     "name": "stdout",
     "output_type": "stream",
     "text": [
      "[89 51 42 39 36  3 15 26  7 84]\n",
      "<class 'numpy.ndarray'>\n"
     ]
    }
   ],
   "source": [
    "# Obtenir un array numpy\n",
    "import numpy as np\n",
    "arr = np.random.randint(0, 100, 10)\n",
    "print(arr)\n",
    "print(type(arr))"
   ]
  },
  {
   "cell_type": "code",
   "execution_count": 7,
   "id": "d8bd76ba",
   "metadata": {},
   "outputs": [
    {
     "name": "stdout",
     "output_type": "stream",
     "text": [
      "[91 88 74 93 76 94 94 82 96 71]\n"
     ]
    }
   ],
   "source": [
    "# Afficher le nouveau contenu du variable arr\n",
    "arr= np.random.randint(70, 101, 10)\n",
    "print(arr)"
   ]
  },
  {
   "cell_type": "code",
   "execution_count": 9,
   "id": "80b7dc2d",
   "metadata": {},
   "outputs": [
    {
     "name": "stdout",
     "output_type": "stream",
     "text": [
      "0    82\n",
      "1    85\n",
      "2    91\n",
      "3    70\n",
      "4    73\n",
      "5    97\n",
      "6    73\n",
      "7    77\n",
      "8    79\n",
      "9    89\n",
      "dtype: int32\n"
     ]
    }
   ],
   "source": [
    "# Question 1 definition de serie (type de variable arr)\n",
    "np.random.seed(0)\n",
    "arr = np.random.randint(70, 101, 10)\n",
    "s = pd.Series(arr)\n",
    "print(s)"
   ]
  },
  {
   "cell_type": "code",
   "execution_count": 26,
   "id": "c817330a",
   "metadata": {},
   "outputs": [
    {
     "name": "stdout",
     "output_type": "stream",
     "text": [
      "Sep    82\n",
      "Oct    85\n",
      "Nov    91\n",
      "Dec    70\n",
      "Jan    73\n",
      "Feb    97\n",
      "Mar    73\n",
      "Apr    77\n",
      "May    79\n",
      "Jun    89\n",
      "dtype: int32\n"
     ]
    }
   ],
   "source": [
    "# Modification de l'index en attribuant l'attribut index\n",
    "# 1er METHODE\n",
    "np.random.seed(0)\n",
    "arr = np.random.randint(70, 101, 10)\n",
    "s = pd.Series(arr)\n",
    "s.index = 'Sep Oct Nov Dec Jan Feb Mar Apr May Jun'.split()\n",
    "print(s)"
   ]
  },
  {
   "cell_type": "code",
   "execution_count": 27,
   "id": "194344cf",
   "metadata": {},
   "outputs": [
    {
     "name": "stdout",
     "output_type": "stream",
     "text": [
      "Sep    82\n",
      "Oct    85\n",
      "Nov    91\n",
      "Dec    70\n",
      "Jan    73\n",
      "Feb    97\n",
      "Mar    73\n",
      "Apr    77\n",
      "May    79\n",
      "Jun    89\n",
      "dtype: int32\n"
     ]
    }
   ],
   "source": [
    "#2eme METHODE\n",
    "np.random.seed(0)\n",
    "months = 'Sep Oct Nov Dec Jan Feb Mar Apr May Jun'.split()\n",
    "arr = np.random.randint(70, 101, 10)\n",
    "s = pd.Series(arr, index = months)\n",
    "print(s)"
   ]
  },
  {
   "cell_type": "code",
   "execution_count": 28,
   "id": "a7b43a23",
   "metadata": {},
   "outputs": [
    {
     "name": "stdout",
     "output_type": "stream",
     "text": [
      " Yearly sum: 816\n",
      " Series shape: (10,)\n",
      " Series shape[0]: 10\n",
      " Series number of elemnts(How many non-NaN values are in the series): 10\n",
      " Yearly average: 81.6\n",
      " Yearly average: 81.6\n"
     ]
    }
   ],
   "source": [
    "print(F' Yearly sum: {s.sum()}')\n",
    "print(F' Series shape: {s.shape}')\n",
    "print(F' Series shape[0]: {s.shape[0]}')\n",
    "print(F' Series number of elemnts(How many non-NaN values are in the series): {s.count()}')\n",
    "print(F' Yearly average: {s.sum()/s.count()}')\n",
    "print(F' Yearly average: {s.mean()}')"
   ]
  },
  {
   "cell_type": "code",
   "execution_count": 34,
   "id": "83ff8b38",
   "metadata": {},
   "outputs": [
    {
     "name": "stdout",
     "output_type": "stream",
     "text": [
      "First semester: 80.2\n",
      "First semester: 83.0\n"
     ]
    }
   ],
   "source": [
    "# 1ere Methode pour connaitre les moyennes pour le premier et deuxieme semestr de l'annee scolaire\n",
    "print(f'First semester: {s[:5].mean()}')\n",
    "print(f'First semester: {s[5:].mean()}')"
   ]
  },
  {
   "cell_type": "code",
   "execution_count": 29,
   "id": "7f655275",
   "metadata": {},
   "outputs": [
    {
     "name": "stdout",
     "output_type": "stream",
     "text": [
      "First semester: 80.2\n",
      "Second semester: 83.0\n"
     ]
    }
   ],
   "source": [
    "# 2eme.1 Methode .iloc recuprer un ou plusiers elements sur la base de la position numerique - l'index par defaut\n",
    "print(f'First semester: {s.iloc[:5].mean()}') #first semester\n",
    "print(f'Second semester: {s.iloc[5:].mean()}') #second semester"
   ]
  },
  {
   "cell_type": "code",
   "execution_count": 30,
   "id": "ecd79a31",
   "metadata": {},
   "outputs": [
    {
     "name": "stdout",
     "output_type": "stream",
     "text": [
      "First semester: 80.2\n",
      "Second semester: 83.0\n"
     ]
    }
   ],
   "source": [
    "# 2eme.2 Methode .loc recuper un ou plusiers elements sur la base de l'index\n",
    "first_half_average = s.loc['Sep':'Jan'].mean()\n",
    "second_half_average = s.loc['Feb':'Jun'].mean()\n",
    "print(f'First semester: {first_half_average}')\n",
    "print(f'Second semester: {second_half_average}')"
   ]
  },
  {
   "cell_type": "code",
   "execution_count": 31,
   "id": "ab2e394a",
   "metadata": {},
   "outputs": [
    {
     "name": "stdout",
     "output_type": "stream",
     "text": [
      "1. Yearly average: 81.6\n",
      "2. First half average: 80.2\n",
      "3. Second half average: 83.0\n",
      "4. Improvement: 2.799999999999997\n"
     ]
    }
   ],
   "source": [
    "#solution L'eleve a t'il ameliore ses perfomances au second semester?, si oui, de combien?\n",
    "import pandas as pd\n",
    "import numpy as np\n",
    "np.random.seed(0)\n",
    "months = 'Sep Oct Nov Dec Jan Feb Mar Apr May Jun'.split()\n",
    "s = pd.Series(arr, index = months)\n",
    "print(f'1. Yearly average: {s.mean()}')\n",
    "\n",
    "first_half_average = s.loc['Sep':'Jan'].mean()\n",
    "second_half_average = s.loc['Feb':'Jun'].mean()\n",
    "\n",
    "print(f'2. First half average: {first_half_average}')\n",
    "print(f'3. Second half average: {second_half_average}')\n",
    "\n",
    "print(f'4. Improvement: {second_half_average - first_half_average}')"
   ]
  },
  {
   "cell_type": "code",
   "execution_count": 32,
   "id": "58f1c4b1",
   "metadata": {},
   "outputs": [
    {
     "name": "stdout",
     "output_type": "stream",
     "text": [
      "Sep    82\n",
      "Oct    85\n",
      "Nov    91\n",
      "Dec    70\n",
      "Jan    73\n",
      "Feb    97\n",
      "Mar    73\n",
      "Apr    77\n",
      "May    79\n",
      "Jun    89\n",
      "dtype: int32\n",
      "----\n",
      "Feb    97\n",
      "Nov    91\n",
      "Jun    89\n",
      "Oct    85\n",
      "Sep    82\n",
      "dtype: int32\n"
     ]
    }
   ],
   "source": [
    "#Quels sont les cinq meilleurs resultats de cet eleve\n",
    "print(s)\n",
    "print('----')\n",
    "print(s.nlargest(5))"
   ]
  },
  {
   "cell_type": "code",
   "execution_count": 33,
   "id": "0c26e782",
   "metadata": {},
   "outputs": [
    {
     "data": {
      "text/plain": [
       "Feb    97\n",
       "dtype: int32"
      ]
     },
     "execution_count": 33,
     "metadata": {},
     "output_type": "execute_result"
    }
   ],
   "source": [
    "# Au cours de quel moi l'eleve a t'il obtenu son score le plus eleve?\n",
    "s[s == s.max()]"
   ]
  }
 ],
 "metadata": {
  "kernelspec": {
   "display_name": "Python 3 (ipykernel)",
   "language": "python",
   "name": "python3"
  },
  "language_info": {
   "codemirror_mode": {
    "name": "ipython",
    "version": 3
   },
   "file_extension": ".py",
   "mimetype": "text/x-python",
   "name": "python",
   "nbconvert_exporter": "python",
   "pygments_lexer": "ipython3",
   "version": "3.11.3"
  }
 },
 "nbformat": 4,
 "nbformat_minor": 5
}
