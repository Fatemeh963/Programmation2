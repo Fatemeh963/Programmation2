{
 "cells": [
  {
   "cell_type": "code",
   "execution_count": 17,
   "id": "c25b45af",
   "metadata": {},
   "outputs": [
    {
     "name": "stdout",
     "output_type": "stream",
     "text": [
      "         passenger_count  trip_distance  payment_type  total_amount\n",
      "0                      1           1.50             1          9.95\n",
      "1                      1           2.60             1         16.30\n",
      "2                      3           0.00             1          5.80\n",
      "3                      5           0.00             2          7.55\n",
      "4                      5           0.00             2         55.55\n",
      "...                  ...            ...           ...           ...\n",
      "7667787                1           4.79             1         23.16\n",
      "7667788                1           0.00             1          0.00\n",
      "7667789                1           0.00             1          0.00\n",
      "7667790                1           0.00             1          0.00\n",
      "7667791                1           0.00             1          0.00\n",
      "\n",
      "[7667792 rows x 4 columns]\n"
     ]
    }
   ],
   "source": [
    "import pandas as pd\n",
    "\n",
    "chemin_vers_fichier = r'C:\\Users\\Admin\\Downloads\\data(1)\\data\\nyc_taxi_2019-01.csv'\n",
    "colonnes_incluses = ['passenger_count', 'trip_distance', 'payment_type', 'total_amount']\n",
    "\n",
    "df = pd.read_csv(chemin_vers_fichier, sep=',', usecols=colonnes_incluses)\n",
    "\n",
    "print(df)\n"
   ]
  },
  {
   "cell_type": "code",
   "execution_count": 18,
   "id": "d76042ae",
   "metadata": {},
   "outputs": [
    {
     "name": "stdout",
     "output_type": "stream",
     "text": [
      "Le nombre de déplacements en taxi avec plus de 8 passagers est : 9\n"
     ]
    }
   ],
   "source": [
    "nombre_deplacements_plus_8_passagers = df[df['passenger_count'] > 8].shape[0]\n",
    "\n",
    "print(\"Le nombre de déplacements en taxi avec plus de 8 passagers est :\", nombre_deplacements_plus_8_passagers)\n"
   ]
  },
  {
   "cell_type": "code",
   "execution_count": 19,
   "id": "f8c3cf55",
   "metadata": {},
   "outputs": [
    {
     "name": "stdout",
     "output_type": "stream",
     "text": [
      "Le nombre de déplacements en taxi sans passager est : 117381\n"
     ]
    }
   ],
   "source": [
    "nombre_deplacements_sans_passager = df[df['passenger_count'] == 0].shape[0]\n",
    "\n",
    "print(\"Le nombre de déplacements en taxi sans passager est :\", nombre_deplacements_sans_passager)\n"
   ]
  },
  {
   "cell_type": "code",
   "execution_count": 20,
   "id": "0049557b",
   "metadata": {},
   "outputs": [
    {
     "name": "stdout",
     "output_type": "stream",
     "text": [
      "Le nombre de déplacements en taxi payés en espèces et coûtant plus de 1000 dollars est : 0\n"
     ]
    }
   ],
   "source": [
    "nombre_deplacements_espece_sup_1000 = df[(df['payment_type'] == 'Cash') & (df['total_amount'] > 1000)].shape[0]\n",
    "\n",
    "print(\"Le nombre de déplacements en taxi payés en espèces et coûtant plus de 1000 dollars est :\", nombre_deplacements_espece_sup_1000)\n"
   ]
  },
  {
   "cell_type": "code",
   "execution_count": 21,
   "id": "45ebe46b",
   "metadata": {},
   "outputs": [
    {
     "name": "stdout",
     "output_type": "stream",
     "text": [
      "Le nombre de déplacements en taxi ayant un coût inférieur à 0 est : 7131\n"
     ]
    }
   ],
   "source": [
    "nombre_deplacements_cout_negatif = df[df['total_amount'] < 0].shape[0]\n",
    "\n",
    "print(\"Le nombre de déplacements en taxi ayant un coût inférieur à 0 est :\", nombre_deplacements_cout_negatif)\n"
   ]
  },
  {
   "cell_type": "code",
   "execution_count": 22,
   "id": "02c4e9b7",
   "metadata": {},
   "outputs": [
    {
     "name": "stdout",
     "output_type": "stream",
     "text": [
      "Le nombre de déplacements en taxi avec une distance inférieure à la moyenne, mais un coût supérieur à la moyenne est : 411255\n"
     ]
    }
   ],
   "source": [
    "moyenne_distance = df['trip_distance'].mean()\n",
    "moyenne_cout = df['total_amount'].mean()\n",
    "nombre_deplacements = df[(df['trip_distance'] < moyenne_distance) & (df['total_amount'] > moyenne_cout)].shape[0]\n",
    "print(\"Le nombre de déplacements en taxi avec une distance inférieure à la moyenne, mais un coût supérieur à la moyenne est :\", nombre_deplacements)\n"
   ]
  },
  {
   "cell_type": "code",
   "execution_count": 29,
   "id": "c44a6b18",
   "metadata": {},
   "outputs": [
    {
     "name": "stderr",
     "output_type": "stream",
     "text": [
      "C:\\Users\\Admin\\AppData\\Local\\Temp\\ipykernel_14912\\375408482.py:4: DtypeWarning: Columns (6) have mixed types. Specify dtype option on import or set low_memory=False.\n",
      "  df1 = pd.read_csv(chemin_vers_fichier1)\n",
      "C:\\Users\\Admin\\AppData\\Local\\Temp\\ipykernel_14912\\375408482.py:5: DtypeWarning: Columns (6) have mixed types. Specify dtype option on import or set low_memory=False.\n",
      "  df2 = pd.read_csv(chemin_vers_fichier2)\n"
     ]
    },
    {
     "name": "stdout",
     "output_type": "stream",
     "text": [
      "Empty DataFrame\n",
      "Columns: [VendorID, tpep_pickup_datetime, tpep_dropoff_datetime, passenger_count, trip_distance, RatecodeID, store_and_fwd_flag, PULocationID, DOLocationID, payment_type, fare_amount, extra, mta_tax, tip_amount, tolls_amount, improvement_surcharge, total_amount, congestion_surcharge]\n",
      "Index: []\n"
     ]
    }
   ],
   "source": [
    "import pandas as pd\n",
    "chemin_vers_fichier1 = r'C:\\Users\\Admin\\Downloads\\data(1)\\data\\nyc_taxi_2019-07.csv'\n",
    "chemin_vers_fichier2 = r'C:\\Users\\Admin\\Downloads\\data(1)\\data\\nyc_taxi_2020-07.csv'\n",
    "df1 = pd.read_csv(chemin_vers_fichier1)\n",
    "df2 = pd.read_csv(chemin_vers_fichier2)\n",
    "df_merged = pd.merge(df1, df2, on='passenger_count','total_amount','payment_type')\n",
    "print(df_merged)\n",
    "\n"
   ]
  },
  {
   "cell_type": "code",
   "execution_count": null,
   "id": "83ddb358",
   "metadata": {},
   "outputs": [],
   "source": []
  }
 ],
 "metadata": {
  "kernelspec": {
   "display_name": "Python 3 (ipykernel)",
   "language": "python",
   "name": "python3"
  },
  "language_info": {
   "codemirror_mode": {
    "name": "ipython",
    "version": 3
   },
   "file_extension": ".py",
   "mimetype": "text/x-python",
   "name": "python",
   "nbconvert_exporter": "python",
   "pygments_lexer": "ipython3",
   "version": "3.10.9"
  }
 },
 "nbformat": 4,
 "nbformat_minor": 5
}
