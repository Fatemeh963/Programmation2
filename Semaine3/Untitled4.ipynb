{
 "cells": [
  {
   "cell_type": "code",
   "execution_count": 2,
   "id": "07da4e12",
   "metadata": {},
   "outputs": [
    {
     "data": {
      "text/plain": [
       "0    10\n",
       "1     2\n",
       "2     3\n",
       "3    70\n",
       "4     5\n",
       "dtype: int64"
      ]
     },
     "execution_count": 2,
     "metadata": {},
     "output_type": "execute_result"
    }
   ],
   "source": [
    "import pandas as pd\n",
    "s=pd.Series([10,2,3,70,5])\n",
    "s"
   ]
  },
  {
   "cell_type": "code",
   "execution_count": 3,
   "id": "8bbc9471",
   "metadata": {},
   "outputs": [
    {
     "data": {
      "text/plain": [
       "0    20\n",
       "1    90\n",
       "2    50\n",
       "3    80\n",
       "dtype: int64"
      ]
     },
     "execution_count": 3,
     "metadata": {},
     "output_type": "execute_result"
    }
   ],
   "source": [
    "from pandas import Series\n",
    "s=Series([20,90,50,80])\n",
    "s"
   ]
  },
  {
   "cell_type": "code",
   "execution_count": 5,
   "id": "41e94b0f",
   "metadata": {},
   "outputs": [
    {
     "name": "stdout",
     "output_type": "stream",
     "text": [
      "[38 49 12 85 11  4 51 26 16 53]\n"
     ]
    },
    {
     "data": {
      "text/plain": [
       "numpy.ndarray"
      ]
     },
     "execution_count": 5,
     "metadata": {},
     "output_type": "execute_result"
    }
   ],
   "source": [
    "import numpy as np\n",
    "arr= np.random.randint(0,100,10)\n",
    "print(arr)\n",
    "type(arr)"
   ]
  },
  {
   "cell_type": "code",
   "execution_count": 6,
   "id": "20675187",
   "metadata": {},
   "outputs": [
    {
     "name": "stdout",
     "output_type": "stream",
     "text": [
      "[71 79 85 75 82 90 78 76 83 73]\n"
     ]
    }
   ],
   "source": [
    "arr= np.random.randint(70,101,10)\n",
    "print(arr)"
   ]
  },
  {
   "cell_type": "code",
   "execution_count": 8,
   "id": "5257ab41",
   "metadata": {},
   "outputs": [
    {
     "data": {
      "text/plain": [
       "0    82\n",
       "1    85\n",
       "2    91\n",
       "3    70\n",
       "4    73\n",
       "5    97\n",
       "6    73\n",
       "7    77\n",
       "8    79\n",
       "9    89\n",
       "dtype: int32"
      ]
     },
     "execution_count": 8,
     "metadata": {},
     "output_type": "execute_result"
    }
   ],
   "source": [
    "np.random.seed(0)\n",
    "arr=np.random.randint(70,101,10)\n",
    "s=pd.Series(arr)\n",
    "s"
   ]
  },
  {
   "cell_type": "code",
   "execution_count": 11,
   "id": "21c79234",
   "metadata": {},
   "outputs": [
    {
     "data": {
      "text/plain": [
       "Sep     82\n",
       "Nov     85\n",
       "Dec     91\n",
       "Jan     70\n",
       "Fev     73\n",
       "Mar     97\n",
       "Apr     73\n",
       "May     77\n",
       "Jun     79\n",
       "July    89\n",
       "dtype: int32"
      ]
     },
     "execution_count": 11,
     "metadata": {},
     "output_type": "execute_result"
    }
   ],
   "source": [
    "np.random.seed(0)\n",
    "arr=np.random.randint(70,101,10)\n",
    "s=pd.Series(arr)\n",
    "s.index='Sep Nov Dec Jan Fev Mar Apr May Jun July'.split()\n",
    "s"
   ]
  },
  {
   "cell_type": "code",
   "execution_count": 5,
   "id": "4aa99e0b",
   "metadata": {},
   "outputs": [
    {
     "data": {
      "text/plain": [
       "Sep    82\n",
       "Oct    85\n",
       "Nov    91\n",
       "Dec    70\n",
       "Jan    73\n",
       "Fev    97\n",
       "Mar    73\n",
       "Apr    77\n",
       "May    79\n",
       "Jun    89\n",
       "dtype: int32"
      ]
     },
     "execution_count": 5,
     "metadata": {},
     "output_type": "execute_result"
    }
   ],
   "source": [
    "import numpy as np\n",
    "import pandas as pd\n",
    "np.random.seed(0)\n",
    "arr=np.random.randint(70,101,10)\n",
    "months='Sep Oct Nov Dec Jan Fev Mar Apr May Jun'.split()\n",
    "s=pd.Series(arr, months)\n",
    "s\n"
   ]
  },
  {
   "cell_type": "code",
   "execution_count": 10,
   "id": "b0bd6fa2",
   "metadata": {},
   "outputs": [
    {
     "name": "stdout",
     "output_type": "stream",
     "text": [
      "Yearly sum:816\n",
      "average is:81.6\n",
      "count is:10\n"
     ]
    }
   ],
   "source": [
    "print(f'Yearly sum:{s.sum()}')\n",
    "print(f'average is:{s.mean()}')\n",
    "print(f'count is:{s.count()}')"
   ]
  },
  {
   "cell_type": "code",
   "execution_count": 17,
   "id": "e27948c2",
   "metadata": {},
   "outputs": [
    {
     "name": "stdout",
     "output_type": "stream",
     "text": [
      "First semestre is:80.2\n",
      "les cinque premier est:Sep    82\n",
      "Oct    85\n",
      "Nov    91\n",
      "Dec    70\n",
      "Jan    73\n",
      "dtype: int32\n",
      "second semestre is:Fev    97\n",
      "Mar    73\n",
      "Apr    77\n",
      "May    79\n",
      "Jun    89\n",
      "dtype: int32\n"
     ]
    }
   ],
   "source": [
    "print(f'First semestre is:{s[:5].mean()}')\n",
    "print(f'les cinque premier est:{s[:5]}')\n",
    "print(f'second semestre is:{s[5:]}')"
   ]
  },
  {
   "cell_type": "code",
   "execution_count": 24,
   "id": "d6a40105",
   "metadata": {},
   "outputs": [
    {
     "name": "stdout",
     "output_type": "stream",
     "text": [
      "index is:Sep    82\n",
      "Oct    85\n",
      "Nov    91\n",
      "Dec    70\n",
      "Jan    73\n",
      "dtype: int32\n"
     ]
    }
   ],
   "source": [
    "print(f'index is:{s.iloc[:5]}')\n"
   ]
  },
  {
   "cell_type": "code",
   "execution_count": 32,
   "id": "2e5f045e",
   "metadata": {},
   "outputs": [
    {
     "name": "stdout",
     "output_type": "stream",
     "text": [
      "first averae is:80.2\n",
      "improvement is:2.799999999999997\n"
     ]
    }
   ],
   "source": [
    "print(f'first averae is:{s.iloc[:5].mean()}')\n",
    "s1=s.iloc[:5].mean()\n",
    "s2=s.iloc[5:].mean()\n",
    "imporve=s2-s1\n",
    "print(f'improvement is:{imporve}')\n",
    "\n",
    "      "
   ]
  },
  {
   "cell_type": "code",
   "execution_count": 41,
   "id": "dce7e5be",
   "metadata": {},
   "outputs": [
    {
     "name": "stdout",
     "output_type": "stream",
     "text": [
      "Sep    82\n",
      "Oct    85\n",
      "NOv    91\n",
      "Dec    70\n",
      "jan    73\n",
      "Fev    97\n",
      "Mar    73\n",
      "Apr    77\n",
      "May    79\n",
      "Jun    89\n",
      "dtype: int32\n",
      "sum is:816\n",
      "les cinque premier est:Sep    82\n",
      "Oct    85\n",
      "NOv    91\n",
      "Dec    70\n",
      "jan    73\n",
      "dtype: int32\n",
      "les seconds cinque est:Fev    97\n",
      "Mar    73\n",
      "Apr    77\n",
      "May    79\n",
      "Jun    89\n",
      "dtype: int32\n",
      "les moyenne est:81.6\n"
     ]
    }
   ],
   "source": [
    "import pandas as pd\n",
    "import numpy as np\n",
    "np.random.seed(0)\n",
    "arr=np.random.randint(70,101,10)\n",
    "months='Sep Oct NOv Dec jan Fev Mar Apr May Jun'.split()\n",
    "index=months\n",
    "s=pd.Series(arr,months)\n",
    "print(s)\n",
    "print(f'sum is:{s.sum()}')\n",
    "print(f'les cinque premier est:{s.iloc[:5]}')\n",
    "print(f'les seconds cinque est:{s.iloc[5:]}')\n",
    "print(f'les moyenne est:{s.mean()}')"
   ]
  },
  {
   "cell_type": "code",
   "execution_count": 43,
   "id": "f80d854b",
   "metadata": {},
   "outputs": [
    {
     "name": "stdout",
     "output_type": "stream",
     "text": [
      "Fev    97\n",
      "NOv    91\n",
      "Jun    89\n",
      "Oct    85\n",
      "Sep    82\n",
      "dtype: int32\n"
     ]
    }
   ],
   "source": [
    "print(s.nlargest())"
   ]
  },
  {
   "cell_type": "code",
   "execution_count": 52,
   "id": "863f7491",
   "metadata": {},
   "outputs": [
    {
     "name": "stdout",
     "output_type": "stream",
     "text": [
      "5\n",
      "Fev\n"
     ]
    }
   ],
   "source": [
    "print(s.argmax())\n",
    "print(s.idxmax())"
   ]
  },
  {
   "cell_type": "code",
   "execution_count": 53,
   "id": "28829507",
   "metadata": {},
   "outputs": [
    {
     "name": "stdout",
     "output_type": "stream",
     "text": [
      "Index(['Fev'], dtype='object')\n"
     ]
    }
   ],
   "source": [
    "print(s[s==s.max()].index)"
   ]
  },
  {
   "cell_type": "code",
   "execution_count": 54,
   "id": "9ed42a1d",
   "metadata": {},
   "outputs": [
    {
     "name": "stdout",
     "output_type": "stream",
     "text": [
      "['Fev']\n"
     ]
    }
   ],
   "source": [
    "print(s[s==s.max()].index.tolist())"
   ]
  },
  {
   "cell_type": "code",
   "execution_count": 61,
   "id": "aa798d62",
   "metadata": {},
   "outputs": [
    {
     "name": "stdout",
     "output_type": "stream",
     "text": [
      "Sep     52\n",
      "Oct     55\n",
      "Nov     40\n",
      "Dec     43\n",
      "Jan     43\n",
      "Fev     47\n",
      "Mar     49\n",
      "Avr     59\n",
      "May     58\n",
      "Juin    44\n",
      "dtype: int32\n"
     ]
    }
   ],
   "source": [
    "import pandas as pd\n",
    "import numpy as np\n",
    "np.random.seed(0)\n",
    "months=['Sep','Oct', 'Nov', 'Dec', 'Jan', 'Fev', 'Mar', 'Avr', 'May', 'Juin']\n",
    "s=pd.Series(np.random.randint(40,60,10),index=months)\n",
    "\n",
    "print(s)\n"
   ]
  },
  {
   "cell_type": "code",
   "execution_count": 63,
   "id": "9d7b676f",
   "metadata": {},
   "outputs": [
    {
     "name": "stdout",
     "output_type": "stream",
     "text": [
      "0     50\n",
      "1     90\n",
      "2    110\n",
      "dtype: int64\n"
     ]
    }
   ],
   "source": [
    "from pandas import Series\n",
    "s1= Series([20,30,40])\n",
    "s2=Series([30,60,70])\n",
    "print(s1+s2)"
   ]
  },
  {
   "cell_type": "code",
   "execution_count": 68,
   "id": "f4e1aacc",
   "metadata": {},
   "outputs": [
    {
     "name": "stdout",
     "output_type": "stream",
     "text": [
      "a   NaN\n",
      "b   NaN\n",
      "c   NaN\n",
      "d   NaN\n",
      "f   NaN\n",
      "s   NaN\n",
      "dtype: float64\n"
     ]
    }
   ],
   "source": [
    "from pandas import Series\n",
    "s1=Series([30,40,50],index=list('abc'))\n",
    "s2=Series([60,70,80],index=['d','s','f'])\n",
    "print(s1+s2)"
   ]
  },
  {
   "cell_type": "code",
   "execution_count": 69,
   "id": "bfa1bd61",
   "metadata": {},
   "outputs": [
    {
     "name": "stdout",
     "output_type": "stream",
     "text": [
      "s    54\n",
      "d    64\n",
      "f    74\n",
      "dtype: int64\n"
     ]
    }
   ],
   "source": [
    "from pandas import Series\n",
    "s=Series([50,60,70],index=list('sdf'))\n",
    "print(s+4)"
   ]
  },
  {
   "cell_type": "code",
   "execution_count": 71,
   "id": "2512effa",
   "metadata": {},
   "outputs": [
    {
     "data": {
      "text/plain": [
       "Series([], dtype: int64)"
      ]
     },
     "execution_count": 71,
     "metadata": {},
     "output_type": "execute_result"
    }
   ],
   "source": [
    "s[s<15]"
   ]
  },
  {
   "cell_type": "code",
   "execution_count": 73,
   "id": "a58c5328",
   "metadata": {},
   "outputs": [
    {
     "name": "stdout",
     "output_type": "stream",
     "text": [
      "s    50\n",
      "dtype: int64\n"
     ]
    }
   ],
   "source": [
    "print(s[s==50])"
   ]
  },
  {
   "cell_type": "code",
   "execution_count": 81,
   "id": "4c752fa6",
   "metadata": {},
   "outputs": [
    {
     "name": "stdout",
     "output_type": "stream",
     "text": [
      "Sep     52\n",
      "Oct     55\n",
      "Nov     40\n",
      "Dec     43\n",
      "Jan     43\n",
      "Fev     47\n",
      "Mar     49\n",
      "Avr     59\n",
      "May     58\n",
      "Juin    44\n",
      "dtype: int32\n",
      "--------------------------------------------------------------------------------------------------------------\n",
      "Sep     43.0\n",
      "Oct     46.0\n",
      "Nov     31.0\n",
      "Dec     34.0\n",
      "Jan     34.0\n",
      "Fev     38.0\n",
      "Mar     40.0\n",
      "Avr     50.0\n",
      "May     49.0\n",
      "Juin    35.0\n",
      "dtype: float64\n"
     ]
    }
   ],
   "source": [
    "\n",
    "import pandas as pd \n",
    "np.random.seed(0)\n",
    "arr=np.random.randint(40,60,10)\n",
    "months=['Sep','Oct', 'Nov', 'Dec', 'Jan', 'Fev', 'Mar', 'Avr', 'May', 'Juin']\n",
    "s=pd.Series(arr,index=months)\n",
    "print(s)\n",
    "print(10*\"-----------\")\n",
    "print(s+(40-s.mean()))"
   ]
  },
  {
   "cell_type": "code",
   "execution_count": 3,
   "id": "f280104e",
   "metadata": {},
   "outputs": [
    {
     "name": "stdout",
     "output_type": "stream",
     "text": [
      "Sep     52\n",
      "Oct     55\n",
      "Nov     40\n",
      "Dec     43\n",
      "Jan     43\n",
      "Fev     47\n",
      "Mar     49\n",
      "Avr     59\n",
      "May     58\n",
      "Juin    44\n",
      "dtype: int32\n",
      "--------------------------------------------------------------------------------------------------------------\n",
      "Sep     43.0\n",
      "Oct     46.0\n",
      "Nov     31.0\n",
      "Dec     34.0\n",
      "Jan     34.0\n",
      "Fev     38.0\n",
      "Mar     40.0\n",
      "Avr     50.0\n",
      "May     49.0\n",
      "Juin    35.0\n",
      "dtype: float64\n"
     ]
    },
    {
     "data": {
      "text/plain": [
       "51.2"
      ]
     },
     "execution_count": 3,
     "metadata": {},
     "output_type": "execute_result"
    }
   ],
   "source": [
    "import pandas as pd \n",
    "import numpy as np\n",
    "np.random.seed(0)\n",
    "arr=np.random.randint(40,60,10)\n",
    "months=['Sep','Oct', 'Nov', 'Dec', 'Jan', 'Fev', 'Mar', 'Avr', 'May', 'Juin']\n",
    "s=pd.Series(arr,index=months)\n",
    "print(s)\n",
    "print(10*\"-----------\")\n",
    "print(s+(40-s.mean()))\n",
    "s.loc['Jan':'May'].mean()"
   ]
  },
  {
   "cell_type": "code",
   "execution_count": 4,
   "id": "28fa7bf3",
   "metadata": {},
   "outputs": [
    {
     "name": "stdout",
     "output_type": "stream",
     "text": [
      "7\n"
     ]
    }
   ],
   "source": [
    "print(s.argmax())"
   ]
  },
  {
   "cell_type": "code",
   "execution_count": 6,
   "id": "4d939b2b",
   "metadata": {},
   "outputs": [
    {
     "name": "stdout",
     "output_type": "stream",
     "text": [
      "7\n",
      "Index(['Avr'], dtype='object')\n"
     ]
    }
   ],
   "source": [
    "print(s.argmax())\n",
    "print(s[s==s.max()].index)"
   ]
  },
  {
   "cell_type": "code",
   "execution_count": 7,
   "id": "44eb7c2f",
   "metadata": {},
   "outputs": [
    {
     "name": "stdout",
     "output_type": "stream",
     "text": [
      "['Avr']\n"
     ]
    }
   ],
   "source": [
    "print(list(s[s==s.max()].index))"
   ]
  },
  {
   "cell_type": "code",
   "execution_count": 9,
   "id": "3de59d8c",
   "metadata": {},
   "outputs": [
    {
     "name": "stdout",
     "output_type": "stream",
     "text": [
      "['Avr']\n"
     ]
    }
   ],
   "source": [
    "print(s[s==s.max()].index.tolist())"
   ]
  },
  {
   "cell_type": "code",
   "execution_count": 10,
   "id": "1afaa13b",
   "metadata": {},
   "outputs": [
    {
     "name": "stdout",
     "output_type": "stream",
     "text": [
      "int64\n"
     ]
    }
   ],
   "source": [
    "s=s.astype(np.int64)\n",
    "print(s.dtype)"
   ]
  },
  {
   "cell_type": "code",
   "execution_count": 12,
   "id": "b3daf4ea",
   "metadata": {},
   "outputs": [
    {
     "name": "stdout",
     "output_type": "stream",
     "text": [
      "Sep     52\n",
      "Oct     55\n",
      "Nov     40\n",
      "Dec     43\n",
      "Jan     43\n",
      "Fev     47\n",
      "Mar     49\n",
      "Avr     59\n",
      "May     58\n",
      "Juin    44\n",
      "dtype: int64\n"
     ]
    }
   ],
   "source": [
    "print(s)"
   ]
  },
  {
   "cell_type": "code",
   "execution_count": 14,
   "id": "3828e78f",
   "metadata": {},
   "outputs": [
    {
     "name": "stdout",
     "output_type": "stream",
     "text": [
      "0     2.0\n",
      "1    30.0\n",
      "2    50.0\n",
      "3    60.0\n",
      "dtype: float16\n"
     ]
    }
   ],
   "source": [
    "s=pd.Series([2,30,50,60], dtype=np.float16)\n",
    "print(s)"
   ]
  },
  {
   "cell_type": "code",
   "execution_count": 16,
   "id": "e803d3b5",
   "metadata": {},
   "outputs": [
    {
     "name": "stdout",
     "output_type": "stream",
     "text": [
      "0     2\n",
      "1    30\n",
      "2    50\n",
      "3    60\n",
      "dtype: int64\n"
     ]
    }
   ],
   "source": [
    "print(s.astype(np.int64))"
   ]
  },
  {
   "cell_type": "code",
   "execution_count": 24,
   "id": "ee3cc89d",
   "metadata": {},
   "outputs": [
    {
     "data": {
      "text/plain": [
       "0    4\n",
       "1    4\n",
       "2    6\n",
       "3    6\n",
       "4    6\n",
       "5    0\n",
       "6    8\n",
       "7    2\n",
       "8    3\n",
       "9    8\n",
       "dtype: int8"
      ]
     },
     "execution_count": 24,
     "metadata": {},
     "output_type": "execute_result"
    }
   ],
   "source": [
    "import pandas as pd\n",
    "import numpy as np\n",
    "np.random.seed(0)\n",
    "arr=np.random.randint(0,101,10)\n",
    "s=pd.Series(arr)\n",
    "(s/10).astype(np.int8)"
   ]
  },
  {
   "cell_type": "code",
   "execution_count": 26,
   "id": "477fe022",
   "metadata": {},
   "outputs": [
    {
     "data": {
      "text/plain": [
       "0    44\n",
       "1    47\n",
       "2    64\n",
       "3    67\n",
       "4    67\n",
       "5     9\n",
       "6    83\n",
       "7    21\n",
       "8    36\n",
       "9    87\n",
       "dtype: int8"
      ]
     },
     "execution_count": 26,
     "metadata": {},
     "output_type": "execute_result"
    }
   ],
   "source": [
    "s.astype(np.int8)"
   ]
  },
  {
   "cell_type": "code",
   "execution_count": 27,
   "id": "1d889d9b",
   "metadata": {},
   "outputs": [
    {
     "data": {
      "text/plain": [
       "count    10.000000\n",
       "mean     52.500000\n",
       "std      25.674241\n",
       "min       9.000000\n",
       "25%      38.000000\n",
       "50%      55.500000\n",
       "75%      67.000000\n",
       "max      87.000000\n",
       "dtype: float64"
      ]
     },
     "execution_count": 27,
     "metadata": {},
     "output_type": "execute_result"
    }
   ],
   "source": [
    "s.describe()"
   ]
  },
  {
   "cell_type": "code",
   "execution_count": 29,
   "id": "9261a680",
   "metadata": {},
   "outputs": [
    {
     "data": {
      "text/html": [
       "<div>\n",
       "<style scoped>\n",
       "    .dataframe tbody tr th:only-of-type {\n",
       "        vertical-align: middle;\n",
       "    }\n",
       "\n",
       "    .dataframe tbody tr th {\n",
       "        vertical-align: top;\n",
       "    }\n",
       "\n",
       "    .dataframe thead th {\n",
       "        text-align: right;\n",
       "    }\n",
       "</style>\n",
       "<table border=\"1\" class=\"dataframe\">\n",
       "  <thead>\n",
       "    <tr style=\"text-align: right;\">\n",
       "      <th></th>\n",
       "      <th>d</th>\n",
       "      <th>f</th>\n",
       "      <th>s</th>\n",
       "    </tr>\n",
       "  </thead>\n",
       "  <tbody>\n",
       "    <tr>\n",
       "      <th>a</th>\n",
       "      <td>1</td>\n",
       "      <td>3</td>\n",
       "      <td>5</td>\n",
       "    </tr>\n",
       "    <tr>\n",
       "      <th>b</th>\n",
       "      <td>40</td>\n",
       "      <td>50</td>\n",
       "      <td>60</td>\n",
       "    </tr>\n",
       "    <tr>\n",
       "      <th>c</th>\n",
       "      <td>70</td>\n",
       "      <td>80</td>\n",
       "      <td>90</td>\n",
       "    </tr>\n",
       "  </tbody>\n",
       "</table>\n",
       "</div>"
      ],
      "text/plain": [
       "    d   f   s\n",
       "a   1   3   5\n",
       "b  40  50  60\n",
       "c  70  80  90"
      ]
     },
     "execution_count": 29,
     "metadata": {},
     "output_type": "execute_result"
    }
   ],
   "source": [
    "import numpy as np\n",
    "from pandas import DataFrame\n",
    "df=DataFrame([[1,3,5],[40,50,60],[70,80,90]],index=list('abc'),columns=list('dfs'))\n",
    "df"
   ]
  },
  {
   "cell_type": "code",
   "execution_count": 31,
   "id": "abf56676",
   "metadata": {},
   "outputs": [
    {
     "ename": "SyntaxError",
     "evalue": "cannot assign to literal here. Maybe you meant '==' instead of '='? (3710688820.py, line 4)",
     "output_type": "error",
     "traceback": [
      "\u001b[1;36m  Cell \u001b[1;32mIn[31], line 4\u001b[1;36m\u001b[0m\n\u001b[1;33m    df=[{'a'= 20,'b'=40,'d'=50},\u001b[0m\n\u001b[1;37m         ^\u001b[0m\n\u001b[1;31mSyntaxError\u001b[0m\u001b[1;31m:\u001b[0m cannot assign to literal here. Maybe you meant '==' instead of '='?\n"
     ]
    }
   ],
   "source": [
    "import pandas as pd\n",
    "import numpy as np\n",
    "from pandas import DataFrame\n",
    "df=[{'a'= 20,'b'=40,'d'=50},\n",
    "   {'a'=50,'b'=70,'d'=40}],index=list('wxy')\n",
    "df"
   ]
  },
  {
   "cell_type": "code",
   "execution_count": null,
   "id": "41310d4e",
   "metadata": {},
   "outputs": [],
   "source": []
  }
 ],
 "metadata": {
  "kernelspec": {
   "display_name": "Python 3 (ipykernel)",
   "language": "python",
   "name": "python3"
  },
  "language_info": {
   "codemirror_mode": {
    "name": "ipython",
    "version": 3
   },
   "file_extension": ".py",
   "mimetype": "text/x-python",
   "name": "python",
   "nbconvert_exporter": "python",
   "pygments_lexer": "ipython3",
   "version": "3.10.9"
  }
 },
 "nbformat": 4,
 "nbformat_minor": 5
}
